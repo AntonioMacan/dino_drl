{
 "cells": [
  {
   "cell_type": "markdown",
   "id": "2f99f7dc",
   "metadata": {},
   "source": [
    "### Setup"
   ]
  },
  {
   "cell_type": "code",
   "execution_count": null,
   "id": "667886e7",
   "metadata": {},
   "outputs": [],
   "source": [
    "import timm\n",
    "import torch\n",
    "import numpy as np\n",
    "from PIL import Image\n",
    "from sklearn.decomposition import PCA\n",
    "from sklearn.manifold import TSNE\n",
    "from sklearn.preprocessing import StandardScaler\n",
    "from sklearn.metrics.pairwise import cosine_similarity\n",
    "import matplotlib.pyplot as plt\n",
    "import mplcursors\n",
    "%matplotlib widget"
   ]
  },
  {
   "cell_type": "markdown",
   "id": "c2dfa259",
   "metadata": {},
   "source": [
    "### Model Loading"
   ]
  },
  {
   "cell_type": "code",
   "execution_count": null,
   "id": "a1c7ea12",
   "metadata": {},
   "outputs": [],
   "source": [
    "device = torch.device(\"cuda\" if torch.cuda.is_available() else \"cpu\")\n",
    "\n",
    "model = timm.create_model(\n",
    "    'vit_large_patch16_dinov3.lvd1689m',\n",
    "    pretrained=True,\n",
    "    num_classes=0,\n",
    ")\n",
    "\n",
    "model = model.to(device)\n",
    "model = model.eval()"
   ]
  },
  {
   "cell_type": "markdown",
   "id": "0baf221d",
   "metadata": {},
   "source": [
    "### Loading Images"
   ]
  },
  {
   "cell_type": "code",
   "execution_count": null,
   "id": "00144c26",
   "metadata": {},
   "outputs": [],
   "source": [
    "IMAGES_ROOT = './images/ball'\n",
    "\n",
    "dataset = timm.data.create_dataset(\n",
    "    name='',\n",
    "    root=IMAGES_ROOT,\n",
    "    split='',\n",
    ")\n",
    "\n",
    "data_config = timm.data.resolve_model_data_config(model)\n",
    "\n",
    "loader = timm.data.create_loader(\n",
    "    dataset,\n",
    "    batch_size=1,\n",
    "    pin_memory=(device == 'cuda'),\n",
    "    is_training=False,\n",
    "    **data_config\n",
    ")"
   ]
  },
  {
   "cell_type": "markdown",
   "id": "11e58f86",
   "metadata": {},
   "source": [
    "### Embeddings Extraction"
   ]
  },
  {
   "cell_type": "code",
   "execution_count": null,
   "id": "97c0a68f",
   "metadata": {},
   "outputs": [],
   "source": [
    "embeddings = []\n",
    "\n",
    "with torch.no_grad():\n",
    "    for batch, _ in loader:\n",
    "        batch = batch.to(device)\n",
    "        emb = model(batch)\n",
    "        embeddings.append(emb.cpu())\n",
    "\n",
    "embeddings = torch.cat(embeddings, dim=0)\n",
    "\n",
    "embeddings_np = embeddings.numpy()\n",
    "\n",
    "scaler = StandardScaler()\n",
    "embeddings_scaled = scaler.fit_transform(embeddings_np)"
   ]
  },
  {
   "cell_type": "markdown",
   "id": "1314c70c",
   "metadata": {},
   "source": [
    "### Embeddings Analysis"
   ]
  },
  {
   "cell_type": "markdown",
   "id": "e18a7f54",
   "metadata": {},
   "source": [
    "#### Difference between embedding components"
   ]
  },
  {
   "cell_type": "code",
   "execution_count": null,
   "id": "ad6f090a",
   "metadata": {},
   "outputs": [],
   "source": [
    "for idx1, img1 in enumerate(dataset.filenames()):\n",
    "    for idx2, img2 in enumerate(dataset.filenames()):\n",
    "        if (idx1 >= idx2): continue\n",
    "        diff = embeddings_np[idx1] - embeddings_np[idx2]\n",
    "        dims_changed = np.where(np.abs(diff) > 0.10)[0]\n",
    "        print(f'Comparing {img1}, {img2}:')\n",
    "        print(f'\\tChanged dims:', dims_changed.tolist(), end='\\n\\n')"
   ]
  },
  {
   "cell_type": "markdown",
   "id": "a236853b",
   "metadata": {},
   "source": [
    "#### Cosine similiraty"
   ]
  },
  {
   "cell_type": "code",
   "execution_count": null,
   "id": "f477de28",
   "metadata": {},
   "outputs": [],
   "source": [
    "COLOR1 = 'blue'\n",
    "COLOR2 = 'white'\n",
    "\n",
    "transforms = timm.data.create_transform(**data_config, is_training=False)\n",
    "\n",
    "def get_embedding(img_path):\n",
    "    img = Image.open(img_path).convert('RGB')\n",
    "    tensor = transforms(img).unsqueeze(0).to(device)\n",
    "    with torch.no_grad():\n",
    "        emb = model(tensor).cpu().squeeze(0).numpy()\n",
    "    return emb\n",
    "\n",
    "ball_color1_emb = get_embedding(f'./images/ball/ball_{COLOR1}.png')\n",
    "ball_color2_emb = get_embedding(f'./images/ball/ball_{COLOR2}.png')\n",
    "chair_color1_emb = get_embedding(f'./images/chair/chair_{COLOR1}.png')\n",
    "chair_color2_emb = get_embedding(f'./images/chair/chair_{COLOR2}.png')\n",
    "\n",
    "cos_sim = cosine_similarity([ball_color1_emb - ball_color2_emb], [chair_color1_emb - chair_color2_emb])[0, 0]\n",
    "print(cos_sim)\n",
    "cos_sim = cosine_similarity([ball_color1_emb - chair_color1_emb], [ball_color2_emb - chair_color2_emb])[0, 0]\n",
    "print(cos_sim)"
   ]
  },
  {
   "cell_type": "markdown",
   "id": "244abe99",
   "metadata": {},
   "source": [
    "### PCA"
   ]
  },
  {
   "cell_type": "code",
   "execution_count": null,
   "id": "a171fe2b",
   "metadata": {},
   "outputs": [],
   "source": [
    "# 2D PCA\n",
    "pca = PCA(n_components=2)\n",
    "embeddings_2d = pca.fit_transform(embeddings_scaled)\n",
    "\n",
    "plt.figure(figsize=(10, 8))\n",
    "scatter = plt.scatter(embeddings_2d[:, 0], embeddings_2d[:, 1], s=100)\n",
    "plt.xlabel(f'PC1 {pca.explained_variance_ratio_[0]:.2%} variance')\n",
    "plt.ylabel(f'PC2 {pca.explained_variance_ratio_[1]:.2%} variance')\n",
    "plt.title('DINOv3 Embeddings - PCA')\n",
    "plt.grid(True, alpha=0.3)\n",
    "\n",
    "cursor = mplcursors.cursor(scatter, hover=True)\n",
    "@cursor.connect('add')\n",
    "def on_add(sel):\n",
    "    sel.annotation.set_text(dataset.filenames()[sel.index])\n",
    "\n",
    "plt.show()\n",
    "\n",
    "print(f\"Explained variance (first 2 components): {pca.explained_variance_ratio_[:2].sum():.2%}\")"
   ]
  },
  {
   "cell_type": "markdown",
   "id": "2ede91cf",
   "metadata": {},
   "source": [
    "### t-SNE"
   ]
  },
  {
   "cell_type": "code",
   "execution_count": null,
   "id": "f32b757d",
   "metadata": {},
   "outputs": [],
   "source": [
    "tsne = TSNE(n_components=2, random_state=42, perplexity=5)\n",
    "embeddings_tsne = tsne.fit_transform(embeddings_scaled)\n",
    "\n",
    "plt.figure(figsize=(10, 8))\n",
    "scatter = plt.scatter(embeddings_tsne[:, 0], embeddings_tsne[:, 1], s=100)\n",
    "plt.xlabel('t-SNE 1')\n",
    "plt.ylabel('t-SNE 2')\n",
    "plt.title('DINOv3 Embeddings - t-SNE')\n",
    "plt.grid(True, alpha=0.3)\n",
    "\n",
    "cursor = mplcursors.cursor(scatter, hover=True)\n",
    "@cursor.connect('add')\n",
    "def on_add(sel):\n",
    "    sel.annotation.set_text(dataset.filenames()[sel.index])\n",
    "\n",
    "plt.show()"
   ]
  }
 ],
 "metadata": {
  "kernelspec": {
   "display_name": "venv",
   "language": "python",
   "name": "python3"
  },
  "language_info": {
   "codemirror_mode": {
    "name": "ipython",
    "version": 3
   },
   "file_extension": ".py",
   "mimetype": "text/x-python",
   "name": "python",
   "nbconvert_exporter": "python",
   "pygments_lexer": "ipython3",
   "version": "3.12.7"
  }
 },
 "nbformat": 4,
 "nbformat_minor": 5
}
